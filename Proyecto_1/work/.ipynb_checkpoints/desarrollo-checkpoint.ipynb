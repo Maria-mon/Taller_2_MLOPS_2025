{
 "cells": [
  {
   "cell_type": "code",
   "execution_count": 19,
   "id": "c5b04102-0d31-4f94-9930-36a2ba6739da",
   "metadata": {},
   "outputs": [],
   "source": [
    "import os\n",
    "import requests\n",
    "## Descargar dataset\n",
    "# Directorio\n",
    "_data_root = './data/covertype'\n",
    "# Path \n",
    "_data_filepath = os.path.join(_data_root, 'covertype_train.csv')\n",
    "# Descaragar data\n",
    "os.makedirs(_data_root, exist_ok=True)\n",
    "if not os.path.isfile(_data_filepath):\n",
    "    #https://archive.ics.uci.edu/ml/machine-learning-databases/covtype/\n",
    "    url = 'https://docs.google.com/uc?export= \\\n",
    "    download&confirm={{VALUE}}&id=1lVF1BCWLH4eXXV_YOJzjR7xZjj-wAGj9'\n",
    "    r = requests.get(url, allow_redirects=True, stream=True)\n",
    "    open(_data_filepath, 'wb').write(r.content)"
   ]
  },
  {
   "cell_type": "code",
   "execution_count": 21,
   "id": "73b9a473-c191-4bc9-ab28-945d26af5297",
   "metadata": {},
   "outputs": [
    {
     "name": "stdout",
     "output_type": "stream",
     "text": [
      "<class 'pandas.core.frame.DataFrame'>\n",
      "RangeIndex: 116203 entries, 0 to 116202\n",
      "Data columns (total 13 columns):\n",
      " #   Column                              Non-Null Count   Dtype \n",
      "---  ------                              --------------   ----- \n",
      " 0   Elevation                           116203 non-null  int64 \n",
      " 1   Aspect                              116203 non-null  int64 \n",
      " 2   Slope                               116203 non-null  int64 \n",
      " 3   Horizontal_Distance_To_Hydrology    116203 non-null  int64 \n",
      " 4   Vertical_Distance_To_Hydrology      116203 non-null  int64 \n",
      " 5   Horizontal_Distance_To_Roadways     116203 non-null  int64 \n",
      " 6   Hillshade_9am                       116203 non-null  int64 \n",
      " 7   Hillshade_Noon                      116203 non-null  int64 \n",
      " 8   Hillshade_3pm                       116203 non-null  int64 \n",
      " 9   Horizontal_Distance_To_Fire_Points  116203 non-null  int64 \n",
      " 10  Wilderness_Area                     116203 non-null  object\n",
      " 11  Soil_Type                           116203 non-null  object\n",
      " 12  Cover_Type                          116203 non-null  int64 \n",
      "dtypes: int64(11), object(2)\n",
      "memory usage: 11.5+ MB\n"
     ]
    }
   ],
   "source": [
    "data.info()"
   ]
  },
  {
   "cell_type": "code",
   "execution_count": 3,
   "id": "51845d1e-237c-422f-84f1-017a8ed9e485",
   "metadata": {},
   "outputs": [
    {
     "name": "stderr",
     "output_type": "stream",
     "text": [
      "2025-02-24 21:43:37.173846: I tensorflow/core/util/port.cc:113] oneDNN custom operations are on. You may see slightly different numerical results due to floating-point round-off errors from different computation orders. To turn them off, set the environment variable `TF_ENABLE_ONEDNN_OPTS=0`.\n",
      "2025-02-24 21:43:37.187073: I external/local_tsl/tsl/cuda/cudart_stub.cc:32] Could not find cuda drivers on your machine, GPU will not be used.\n",
      "2025-02-24 21:43:37.401918: I external/local_tsl/tsl/cuda/cudart_stub.cc:32] Could not find cuda drivers on your machine, GPU will not be used.\n",
      "2025-02-24 21:43:38.183818: I tensorflow/core/platform/cpu_feature_guard.cc:210] This TensorFlow binary is optimized to use available CPU instructions in performance-critical operations.\n",
      "To enable the following instructions: AVX2 AVX_VNNI FMA, in other operations, rebuild TensorFlow with the appropriate compiler flags.\n",
      "2025-02-24 21:43:40.694764: W tensorflow/compiler/tf2tensorrt/utils/py_utils.cc:38] TF-TRT Warning: Could not find TensorRT\n"
     ]
    }
   ],
   "source": [
    "import tensorflow as tf"
   ]
  },
  {
   "cell_type": "code",
   "execution_count": 6,
   "id": "52922695-fce8-4377-a2ad-f9fc4161876e",
   "metadata": {},
   "outputs": [],
   "source": [
    "#SELECCIÓN DE CARACTERISTICAS\n",
    "from sklearn.feature_selection import SelectKBest, f_classif\n",
    "# Separar características y la variable objetivo\n",
    "X = data.drop(columns=[\"Cover_Type\"])  # Eliminar la columna objetivo\n",
    "y = data[\"Cover_Type\"]  # Variable objetivo\n",
    "\n",
    "#Seleccionar solo las características numéricas\n",
    "X_numeric = X.select_dtypes(include=['number'])\n"
   ]
  },
  {
   "cell_type": "code",
   "execution_count": 7,
   "id": "05d9a60a-cbd9-4f07-b974-059d97a6e9a6",
   "metadata": {},
   "outputs": [
    {
     "name": "stdout",
     "output_type": "stream",
     "text": [
      "Características seleccionadas:\n",
      "Index(['Elevation', 'Slope', 'Horizontal_Distance_To_Roadways',\n",
      "       'Hillshade_9am', 'Horizontal_Distance_To_Fire_Points'],\n",
      "      dtype='object')\n"
     ]
    }
   ],
   "source": [
    "# Aplicar SelectKBest para selección de características\n",
    "k = 5  # Número de características a seleccionar\n",
    "selector = SelectKBest(score_func=f_classif, k=k)\n",
    "X_selected = selector.fit_transform(X_numeric, y)\n",
    "\n",
    "selected_features = X_numeric.columns[selector.get_support()]\n",
    "\n",
    "print(\"Características seleccionadas:\")\n",
    "print(selected_features)"
   ]
  },
  {
   "cell_type": "code",
   "execution_count": 10,
   "id": "3d72502a-aa17-44f9-b320-d2c0725263a4",
   "metadata": {},
   "outputs": [
    {
     "name": "stdout",
     "output_type": "stream",
     "text": [
      "                           Columns  Retain\n",
      "                         Elevation    True\n",
      "                            Aspect   False\n",
      "                             Slope    True\n",
      "  Horizontal_Distance_To_Hydrology   False\n",
      "    Vertical_Distance_To_Hydrology   False\n",
      "   Horizontal_Distance_To_Roadways    True\n",
      "                     Hillshade_9am    True\n",
      "                    Hillshade_Noon   False\n",
      "                     Hillshade_3pm   False\n",
      "Horizontal_Distance_To_Fire_Points    True\n"
     ]
    }
   ],
   "source": [
    "#Crear DataFrame con True/False para cada columna\n",
    "feature_selection_result = pd.DataFrame({\n",
    "    \"Columns\": X_numeric.columns,\n",
    "    \"Retain\": X_numeric.columns.isin(selected_features)\n",
    "})\n",
    "\n",
    "print(feature_selection_result.to_string(index=False))  # Imprimir en formato tabla"
   ]
  },
  {
   "cell_type": "code",
   "execution_count": 11,
   "id": "8d16e240-a4df-4437-8d72-7f3b725a5956",
   "metadata": {},
   "outputs": [],
   "source": [
    "#DATA PIPELINE\n",
    "## Configurar el contexto interactivo\n",
    "\n",
    "import tfx\n",
    "from tfx.orchestration.experimental.interactive.interactive_context import InteractiveContext"
   ]
  },
  {
   "cell_type": "code",
   "execution_count": 14,
   "id": "870c5748-f1ba-48b1-9814-0bbbc424e3a3",
   "metadata": {},
   "outputs": [
    {
     "name": "stdout",
     "output_type": "stream",
     "text": [
      "Pipeline configurado en: /app/tfx_pipeline\n",
      "Base de datos de metadatos en: /app/tfx_pipeline/metadata.db\n"
     ]
    }
   ],
   "source": [
    "#Ingesta de datos\n",
    "from tfx.orchestration.experimental.interactive.interactive_context import InteractiveContext\n",
    "from tfx.orchestration.metadata import sqlite_metadata_connection_config\n",
    "\n",
    "# 📌 Definir la ruta del directorio de metadatos\n",
    "PIPELINE_ROOT = os.path.join(os.getcwd(), \"tfx_pipeline\")\n",
    "METADATA_PATH = os.path.join(PIPELINE_ROOT, \"metadata.db\")\n",
    "\n",
    "# 📌 Crear la configuración de la base de datos SQLite en el formato correcto\n",
    "metadata_connection_config = sqlite_metadata_connection_config(METADATA_PATH)\n",
    "\n",
    "# 📌 Iniciar el contexto interactivo con la configuración corregida\n",
    "context = InteractiveContext(pipeline_root=PIPELINE_ROOT, metadata_connection_config=metadata_connection_config)\n",
    "\n",
    "print(f\"Pipeline configurado en: {PIPELINE_ROOT}\")\n",
    "print(f\"Base de datos de metadatos en: {METADATA_PATH}\")\n"
   ]
  },
  {
   "cell_type": "code",
   "execution_count": 22,
   "id": "2b3789f4-5cd2-40f5-b048-093473f5b366",
   "metadata": {},
   "outputs": [
    {
     "name": "stdout",
     "output_type": "stream",
     "text": [
      "Usando DATA_DIR: /app/data/covertype\n"
     ]
    },
    {
     "name": "stderr",
     "output_type": "stream",
     "text": [
      "WARNING:apache_beam.io.tfrecordio:Couldn't find python-snappy so the implementation of _TFRecordUtil._masked_crc32c is not as fast as it could be.\n"
     ]
    },
    {
     "name": "stdout",
     "output_type": "stream",
     "text": [
      "Datos ingeridos y convertidos a TFRecord en: /app/tfx_pipeline/CsvExampleGen/examples/5\n"
     ]
    }
   ],
   "source": [
    "from tfx.components import CsvExampleGen\n",
    "\n",
    "# Definir la ruta de los datos \n",
    "DATA_DIR = os.path.abspath(\"./data/covertype\")  # Ruta absoluta del directorio donde está el CSV\n",
    "print(f\"Usando DATA_DIR: {DATA_DIR}\")\n",
    "\n",
    "#Crear el componente ExampleGen\n",
    "example_gen = CsvExampleGen(input_base=DATA_DIR)\n",
    "\n",
    "#Ejecutar ExampleGen en el contexto interactivo\n",
    "context.run(example_gen)\n",
    "\n",
    "#Verificar la salida de los datos ingeridos\n",
    "artifact_uri = example_gen.outputs['examples'].get()[0].uri\n",
    "print(f\"Datos ingeridos y convertidos a TFRecord en: {artifact_uri}\")\n",
    "\n"
   ]
  },
  {
   "cell_type": "code",
   "execution_count": 25,
   "id": "741aadaf-00dd-4fb1-a111-27992f6ccee2",
   "metadata": {},
   "outputs": [
    {
     "name": "stdout",
     "output_type": "stream",
     "text": [
      "Estadísticas generadas en: /app/tfx_pipeline/StatisticsGen/statistics/6\n"
     ]
    }
   ],
   "source": [
    "#Estadisticas\n",
    "from tfx.components import StatisticsGen\n",
    "\n",
    "#Crear el componente StatisticsGen con la salida de ExampleGen\n",
    "statistics_gen = StatisticsGen(\n",
    "    examples=example_gen.outputs['examples']\n",
    ")\n",
    "\n",
    "#Ejecutar StatisticsGen en el contexto interactivo\n",
    "context.run(statistics_gen)\n",
    "\n",
    "#Obtener la URI de las estadísticas generadas\n",
    "artifact_uri = statistics_gen.outputs['statistics'].get()[0].uri\n",
    "print(f\"Estadísticas generadas en: {artifact_uri}\")\n"
   ]
  },
  {
   "cell_type": "code",
   "execution_count": 27,
   "id": "858bba08-4793-4cdf-b6b8-896fd58e8eba",
   "metadata": {},
   "outputs": [
    {
     "name": "stdout",
     "output_type": "stream",
     "text": [
      "Contenido de StatisticsGen: ['Split-eval', 'Split-train']\n"
     ]
    }
   ],
   "source": [
    "print(\"Contenido de StatisticsGen:\", os.listdir(artifact_uri))"
   ]
  },
  {
   "cell_type": "code",
   "execution_count": 28,
   "id": "727986d8-5cca-49e8-852a-53375e454c88",
   "metadata": {},
   "outputs": [
    {
     "name": "stdout",
     "output_type": "stream",
     "text": [
      "Contenido de Split-train: ['FeatureStats.pb']\n"
     ]
    }
   ],
   "source": [
    "train_stats_dir = os.path.join(artifact_uri, \"Split-train\")\n",
    "print(\"Contenido de Split-train:\", os.listdir(train_stats_dir))\n"
   ]
  },
  {
   "cell_type": "code",
   "execution_count": 31,
   "id": "f55b17b4-69af-44a4-820a-de08cf7a1b5d",
   "metadata": {},
   "outputs": [
    {
     "data": {
      "text/html": [
       "<iframe id='facets-iframe' width=\"100%\" height=\"500px\"></iframe>\n",
       "        <script>\n",
       "        facets_iframe = document.getElementById('facets-iframe');\n",
       "        facets_html = '<script src=\"https://cdnjs.cloudflare.com/ajax/libs/webcomponentsjs/1.3.3/webcomponents-lite.js\"><\\/script><link rel=\"import\" href=\"https://raw.githubusercontent.com/PAIR-code/facets/master/facets-dist/facets-jupyter.html\"><facets-overview proto-input=\"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\"></facets-overview>';\n",
       "        facets_iframe.srcdoc = facets_html;\n",
       "         facets_iframe.id = \"\";\n",
       "         setTimeout(() => {\n",
       "           facets_iframe.setAttribute('height', facets_iframe.contentWindow.document.body.offsetHeight + 'px')\n",
       "         }, 1500)\n",
       "         </script>"
      ],
      "text/plain": [
       "<IPython.core.display.HTML object>"
      ]
     },
     "metadata": {},
     "output_type": "display_data"
    }
   ],
   "source": [
    "from google.protobuf import text_format\n",
    "from tensorflow_metadata.proto.v0 import statistics_pb2\n",
    "\n",
    "#Ruta del archivo de estadísticas en Split-train\n",
    "stats_path = os.path.join(artifact_uri, \"Split-train\", \"FeatureStats.pb\")\n",
    "\n",
    "#Verificar si el archivo existe antes de cargarlo\n",
    "if os.path.exists(stats_path):\n",
    "    #Crear un objeto ProtoBuf para almacenar las estadísticas\n",
    "    stats_proto = statistics_pb2.DatasetFeatureStatisticsList()\n",
    "\n",
    "    #Leer el archivo como un ProtoBuf binario\n",
    "    with open(stats_path, \"rb\") as f:\n",
    "        stats_proto.ParseFromString(f.read())\n",
    "\n",
    "    #Mostrar las estadísticas cargadas\n",
    "    #print(stats_proto)\n",
    "else:\n",
    "    print(f\"El archivo {stats_path} no existe. Verifica el directorio de estadísticas.\")\n",
    "\n",
    "import tensorflow_data_validation as tfdv\n",
    "from tensorflow_metadata.proto.v0 import statistics_pb2\n",
    "\n",
    "# Convertir el ProtoBuf cargado en el formato correcto para visualización\n",
    "stats_dataset = statistics_pb2.DatasetFeatureStatisticsList()\n",
    "stats_dataset.datasets.extend([stats_proto.datasets[0]])\n",
    "\n",
    "# Visualizar las estadísticas con FACETS\n",
    "tfdv.visualize_statistics(stats_dataset)\n",
    "\n"
   ]
  },
  {
   "cell_type": "code",
   "execution_count": null,
   "id": "6c63774e-ff6c-43e6-97e0-40af435322fc",
   "metadata": {},
   "outputs": [],
   "source": []
  }
 ],
 "metadata": {
  "kernelspec": {
   "display_name": "Python 3 (ipykernel)",
   "language": "python",
   "name": "python3"
  },
  "language_info": {
   "codemirror_mode": {
    "name": "ipython",
    "version": 3
   },
   "file_extension": ".py",
   "mimetype": "text/x-python",
   "name": "python",
   "nbconvert_exporter": "python",
   "pygments_lexer": "ipython3",
   "version": "3.9.13"
  }
 },
 "nbformat": 4,
 "nbformat_minor": 5
}
